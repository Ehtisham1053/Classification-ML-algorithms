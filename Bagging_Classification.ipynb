{
  "nbformat": 4,
  "nbformat_minor": 0,
  "metadata": {
    "colab": {
      "provenance": [],
      "authorship_tag": "ABX9TyM0YcgfrtPwDjWgsjleXYEq",
      "include_colab_link": true
    },
    "kernelspec": {
      "name": "python3",
      "display_name": "Python 3"
    },
    "language_info": {
      "name": "python"
    }
  },
  "cells": [
    {
      "cell_type": "markdown",
      "metadata": {
        "id": "view-in-github",
        "colab_type": "text"
      },
      "source": [
        "<a href=\"https://colab.research.google.com/github/Ehtisham1053/Classification-ML-algorithms/blob/main/Bagging_Classification.ipynb\" target=\"_parent\"><img src=\"https://colab.research.google.com/assets/colab-badge.svg\" alt=\"Open In Colab\"/></a>"
      ]
    },
    {
      "cell_type": "code",
      "execution_count": 1,
      "metadata": {
        "id": "oH3Tqpnvgtkp"
      },
      "outputs": [],
      "source": [
        "import numpy as np\n",
        "import matplotlib.pyplot as plt\n",
        "import seaborn as sns\n",
        "from sklearn.datasets import make_classification\n",
        "from sklearn.model_selection import train_test_split\n",
        "from sklearn.tree import DecisionTreeClassifier\n",
        "from sklearn.metrics import accuracy_score, confusion_matrix, classification_report\n",
        "from sklearn.decomposition import PCA"
      ]
    },
    {
      "cell_type": "code",
      "source": [
        "class BaggingClassifier:\n",
        "    def __init__(self, n_estimators=10, sample_size=0.8, max_depth=None):\n",
        "        self.n_estimators = n_estimators\n",
        "        self.sample_size = sample_size\n",
        "        self.max_depth = max_depth\n",
        "        self.models = []\n",
        "        self.subsets = []\n",
        "\n",
        "    def fit(self, X, y):\n",
        "        self.models = []\n",
        "        self.subsets = []\n",
        "        n_samples = int(self.sample_size * len(X))\n",
        "\n",
        "        for _ in range(self.n_estimators):\n",
        "            indices = np.random.choice(len(X), n_samples, replace=True)\n",
        "            X_subset, y_subset = X[indices], y[indices]\n",
        "            model = DecisionTreeClassifier(max_depth=self.max_depth)\n",
        "            model.fit(X_subset, y_subset)\n",
        "            self.models.append(model)\n",
        "            self.subsets.append(indices)\n",
        "\n",
        "    def predict(self, X):\n",
        "        predictions = np.array([model.predict(X) for model in self.models])\n",
        "        return np.round(np.mean(predictions, axis=0))\n",
        "\n",
        "    def evaluate(self, X_train, y_train, X_test, y_test):\n",
        "        y_train_pred = self.predict(X_train)\n",
        "        y_test_pred = self.predict(X_test)\n",
        "\n",
        "        train_acc = accuracy_score(y_train, y_train_pred)\n",
        "        test_acc = accuracy_score(y_test, y_test_pred)\n",
        "        cm = confusion_matrix(y_test, y_test_pred)\n",
        "        report = classification_report(y_test, y_test_pred)\n",
        "\n",
        "        print(\"Training Accuracy:\", train_acc)\n",
        "        print(\"Testing Accuracy:\", test_acc)\n",
        "        print(\"Confusion Matrix:\\n\", cm)\n",
        "        print(\"Classification Report:\\n\", report)\n",
        "\n",
        "        return train_acc, test_acc, cm, report"
      ],
      "metadata": {
        "id": "sLNpHwnMoj95"
      },
      "execution_count": 2,
      "outputs": []
    },
    {
      "cell_type": "code",
      "source": [
        "# Load Dataset from seaborn\n",
        "data = sns.load_dataset(\"penguins\").dropna()\n",
        "X = data.drop(columns=['species']).select_dtypes(include=[np.number]).values\n",
        "y = data['species'].astype('category').cat.codes.values\n",
        "\n",
        "X_train, X_test, y_train, y_test = train_test_split(X, y, test_size=0.2, random_state=42)"
      ],
      "metadata": {
        "id": "icmCnHYOozSj"
      },
      "execution_count": 4,
      "outputs": []
    },
    {
      "cell_type": "code",
      "source": [
        "# Train and Evaluate Bagging Classifier\n",
        "bagging_clf = BaggingClassifier(n_estimators=10, sample_size=0.8, max_depth=3)\n",
        "bagging_clf.fit(X_train, y_train)\n",
        "bagging_clf.evaluate(X_train, y_train, X_test, y_test)"
      ],
      "metadata": {
        "id": "LFcxfWny1vqf",
        "outputId": "73870e83-0626-4514-c801-3acb5339d365",
        "colab": {
          "base_uri": "https://localhost:8080/"
        }
      },
      "execution_count": 5,
      "outputs": [
        {
          "output_type": "stream",
          "name": "stdout",
          "text": [
            "Training Accuracy: 0.9699248120300752\n",
            "Testing Accuracy: 0.9850746268656716\n",
            "Confusion Matrix:\n",
            " [[31  0  0]\n",
            " [ 1 12  0]\n",
            " [ 0  0 23]]\n",
            "Classification Report:\n",
            "               precision    recall  f1-score   support\n",
            "\n",
            "           0       0.97      1.00      0.98        31\n",
            "           1       1.00      0.92      0.96        13\n",
            "           2       1.00      1.00      1.00        23\n",
            "\n",
            "    accuracy                           0.99        67\n",
            "   macro avg       0.99      0.97      0.98        67\n",
            "weighted avg       0.99      0.99      0.98        67\n",
            "\n"
          ]
        },
        {
          "output_type": "execute_result",
          "data": {
            "text/plain": [
              "(0.9699248120300752,\n",
              " 0.9850746268656716,\n",
              " array([[31,  0,  0],\n",
              "        [ 1, 12,  0],\n",
              "        [ 0,  0, 23]]),\n",
              " '              precision    recall  f1-score   support\\n\\n           0       0.97      1.00      0.98        31\\n           1       1.00      0.92      0.96        13\\n           2       1.00      1.00      1.00        23\\n\\n    accuracy                           0.99        67\\n   macro avg       0.99      0.97      0.98        67\\nweighted avg       0.99      0.99      0.98        67\\n')"
            ]
          },
          "metadata": {},
          "execution_count": 5
        }
      ]
    },
    {
      "cell_type": "code",
      "source": [],
      "metadata": {
        "id": "E_r5EUW11xnj"
      },
      "execution_count": null,
      "outputs": []
    }
  ]
}