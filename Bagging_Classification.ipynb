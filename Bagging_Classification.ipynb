{
  "nbformat": 4,
  "nbformat_minor": 0,
  "metadata": {
    "colab": {
      "provenance": [],
      "authorship_tag": "ABX9TyNUCP9z6ySeulIyyjvuzdbx",
      "include_colab_link": true
    },
    "kernelspec": {
      "name": "python3",
      "display_name": "Python 3"
    },
    "language_info": {
      "name": "python"
    }
  },
  "cells": [
    {
      "cell_type": "markdown",
      "metadata": {
        "id": "view-in-github",
        "colab_type": "text"
      },
      "source": [
        "<a href=\"https://colab.research.google.com/github/Ehtisham1053/Classification-ML-algorithms/blob/main/Bagging_Classification.ipynb\" target=\"_parent\"><img src=\"https://colab.research.google.com/assets/colab-badge.svg\" alt=\"Open In Colab\"/></a>"
      ]
    },
    {
      "cell_type": "code",
      "execution_count": 1,
      "metadata": {
        "id": "oH3Tqpnvgtkp"
      },
      "outputs": [],
      "source": [
        "import numpy as np\n",
        "import matplotlib.pyplot as plt\n",
        "import seaborn as sns\n",
        "from sklearn.datasets import make_classification\n",
        "from sklearn.model_selection import train_test_split\n",
        "from sklearn.tree import DecisionTreeClassifier\n",
        "from sklearn.metrics import accuracy_score, confusion_matrix, classification_report\n",
        "from sklearn.decomposition import PCA"
      ]
    },
    {
      "cell_type": "code",
      "source": [
        "class BaggingClassifier:\n",
        "    def __init__(self, n_estimators=10, sample_size=0.8, max_depth=None):\n",
        "        self.n_estimators = n_estimators\n",
        "        self.sample_size = sample_size\n",
        "        self.max_depth = max_depth\n",
        "        self.models = []\n",
        "        self.subsets = []\n",
        "\n",
        "    def fit(self, X, y):\n",
        "        self.models = []\n",
        "        self.subsets = []\n",
        "        n_samples = int(self.sample_size * len(X))\n",
        "\n",
        "        for _ in range(self.n_estimators):\n",
        "            indices = np.random.choice(len(X), n_samples, replace=True)\n",
        "            X_subset, y_subset = X[indices], y[indices]\n",
        "            model = DecisionTreeClassifier(max_depth=self.max_depth)\n",
        "            model.fit(X_subset, y_subset)\n",
        "            self.models.append(model)\n",
        "            self.subsets.append(indices)\n",
        "\n",
        "    def predict(self, X):\n",
        "        predictions = np.array([model.predict(X) for model in self.models])\n",
        "        return np.round(np.mean(predictions, axis=0))\n",
        "\n",
        "    def evaluate(self, X_train, y_train, X_test, y_test):\n",
        "        y_train_pred = self.predict(X_train)\n",
        "        y_test_pred = self.predict(X_test)\n",
        "\n",
        "        train_acc = accuracy_score(y_train, y_train_pred)\n",
        "        test_acc = accuracy_score(y_test, y_test_pred)\n",
        "        cm = confusion_matrix(y_test, y_test_pred)\n",
        "        report = classification_report(y_test, y_test_pred)\n",
        "\n",
        "        print(\"Training Accuracy:\", train_acc)\n",
        "        print(\"Testing Accuracy:\", test_acc)\n",
        "        print(\"Confusion Matrix:\\n\", cm)\n",
        "        print(\"Classification Report:\\n\", report)\n",
        "\n",
        "        return train_acc, test_acc, cm, report"
      ],
      "metadata": {
        "id": "sLNpHwnMoj95"
      },
      "execution_count": 2,
      "outputs": []
    },
    {
      "cell_type": "code",
      "source": [],
      "metadata": {
        "id": "icmCnHYOozSj"
      },
      "execution_count": null,
      "outputs": []
    }
  ]
}