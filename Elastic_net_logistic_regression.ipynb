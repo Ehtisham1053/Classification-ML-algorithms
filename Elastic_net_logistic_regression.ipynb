{
  "nbformat": 4,
  "nbformat_minor": 0,
  "metadata": {
    "colab": {
      "provenance": [],
      "authorship_tag": "ABX9TyPAH4Q9TjLiMNFlrVGZEvrH",
      "include_colab_link": true
    },
    "kernelspec": {
      "name": "python3",
      "display_name": "Python 3"
    },
    "language_info": {
      "name": "python"
    }
  },
  "cells": [
    {
      "cell_type": "markdown",
      "metadata": {
        "id": "view-in-github",
        "colab_type": "text"
      },
      "source": [
        "<a href=\"https://colab.research.google.com/github/Ehtisham1053/Classification-ML-algorithms/blob/main/Elastic_net_logistic_regression.ipynb\" target=\"_parent\"><img src=\"https://colab.research.google.com/assets/colab-badge.svg\" alt=\"Open In Colab\"/></a>"
      ]
    },
    {
      "cell_type": "code",
      "execution_count": 1,
      "metadata": {
        "id": "2v7nJOWeALRz"
      },
      "outputs": [],
      "source": [
        "import numpy as np\n",
        "import matplotlib.pyplot as plt\n",
        "import seaborn as sns\n",
        "from sklearn.model_selection import train_test_split\n",
        "from sklearn.metrics import confusion_matrix, classification_report\n",
        "from sklearn.datasets import make_classification"
      ]
    },
    {
      "cell_type": "code",
      "source": [
        "class ElasticNetLogisticRegression:\n",
        "    def __init__(self, alpha=0.01, l1_ratio=0.5, epochs=1000, tol=1e-5):\n",
        "        self.alpha = alpha\n",
        "        self.l1_ratio = l1_ratio\n",
        "        self.epochs = epochs\n",
        "        self.tol = tol\n",
        "        self.weights = None\n",
        "        self.bias = None\n",
        "\n",
        "    def sigmoid(self, z):\n",
        "        return 1 / (1 + np.exp(-z))\n",
        "\n",
        "    def compute_cost(self, X, y):\n",
        "        m = len(y)\n",
        "        predictions = self.sigmoid(X @ self.weights + self.bias)\n",
        "        loss = -np.mean(y * np.log(predictions) + (1 - y) * np.log(1 - predictions))\n",
        "        l1_term = self.l1_ratio * np.sum(np.abs(self.weights))\n",
        "        l2_term = (1 - self.l1_ratio) * np.sum(self.weights ** 2)\n",
        "        return loss + (self.alpha / (2 * m)) * (l1_term + l2_term)\n",
        "\n",
        "    def fit(self, X, y):\n",
        "        m, n = X.shape\n",
        "        self.weights = np.zeros(n)\n",
        "        self.bias = 0\n",
        "\n",
        "        for epoch in range(self.epochs):\n",
        "            linear_model = X @ self.weights + self.bias\n",
        "            predictions = self.sigmoid(linear_model)\n",
        "\n",
        "            gradient_w = (X.T @ (predictions - y)) / m + (self.alpha * self.l1_ratio * np.sign(self.weights) + self.alpha * (1 - self.l1_ratio) * self.weights) / m\n",
        "            gradient_b = np.sum(predictions - y) / m\n",
        "\n",
        "            self.weights -= self.alpha * gradient_w\n",
        "            self.bias -= self.alpha * gradient_b\n",
        "\n",
        "            if np.linalg.norm(gradient_w) < self.tol:\n",
        "                break\n",
        "\n",
        "    def predict(self, X):\n",
        "        return (self.sigmoid(X @ self.weights + self.bias) >= 0.5).astype(int)\n",
        "\n"
      ],
      "metadata": {
        "id": "NBa35tgnAlFK"
      },
      "execution_count": 3,
      "outputs": []
    },
    {
      "cell_type": "code",
      "source": [
        "X, y = make_classification(n_samples=200, n_features=2, n_classes=2, n_informative=2, n_redundant=0, random_state=42)\n",
        "X_train, X_test, y_train, y_test = train_test_split(X, y, test_size=0.2, random_state=42)\n",
        "\n",
        "model = ElasticNetLogisticRegression(alpha=0.1, l1_ratio=0.5, epochs=1000)\n",
        "model.fit(X_train, y_train)\n",
        "\n",
        "y_pred = model.predict(X_test)\n",
        "\n",
        "print(\"Confusion Matrix:\\n\", confusion_matrix(y_test, y_pred))\n",
        "print(\"Classification Report:\\n\", classification_report(y_test, y_pred))\n",
        "\n",
        "def plot_decision_boundary(model, X, y):\n",
        "    x_min, x_max = X[:, 0].min() - 1, X[:, 0].max() + 1\n",
        "    y_min, y_max = X[:, 1].min() - 1, X[:, 1].max() + 1\n",
        "    xx, yy = np.meshgrid(np.linspace(x_min, x_max, 100), np.linspace(y_min, y_max, 100))\n",
        "\n",
        "    Z = model.predict(np.c_[xx.ravel(), yy.ravel()])\n",
        "    Z = Z.reshape(xx.shape)\n",
        "\n",
        "    plt.contourf(xx, yy, Z, alpha=0.3)\n",
        "    plt.scatter(X[:, 0], X[:, 1], c=y, edgecolor='k', cmap='coolwarm')\n",
        "    plt.title(\"Decision Boundary\")\n",
        "    plt.xlabel(\"Feature 1\")\n",
        "    plt.ylabel(\"Feature 2\")\n",
        "    plt.show()\n",
        "\n",
        "plot_decision_boundary(model, X, y)\n"
      ],
      "metadata": {
        "id": "vMcgnugKAxch"
      },
      "execution_count": null,
      "outputs": []
    }
  ]
}