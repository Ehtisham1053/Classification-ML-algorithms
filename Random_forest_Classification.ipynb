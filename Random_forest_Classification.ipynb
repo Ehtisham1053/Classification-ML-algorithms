{
  "nbformat": 4,
  "nbformat_minor": 0,
  "metadata": {
    "colab": {
      "provenance": [],
      "authorship_tag": "ABX9TyN3BoCtVllNIMPBYeJO7fvQ",
      "include_colab_link": true
    },
    "kernelspec": {
      "name": "python3",
      "display_name": "Python 3"
    },
    "language_info": {
      "name": "python"
    }
  },
  "cells": [
    {
      "cell_type": "markdown",
      "metadata": {
        "id": "view-in-github",
        "colab_type": "text"
      },
      "source": [
        "<a href=\"https://colab.research.google.com/github/Ehtisham1053/Classification-ML-algorithms/blob/main/Random_forest_Classification.ipynb\" target=\"_parent\"><img src=\"https://colab.research.google.com/assets/colab-badge.svg\" alt=\"Open In Colab\"/></a>"
      ]
    },
    {
      "cell_type": "markdown",
      "source": [
        "## Manual implementation without using the sklearn class"
      ],
      "metadata": {
        "id": "HRwEqtza25V0"
      }
    },
    {
      "cell_type": "code",
      "execution_count": 2,
      "metadata": {
        "id": "K2f6ngEC1AvR"
      },
      "outputs": [],
      "source": [
        "import numpy as np\n",
        "import matplotlib.pyplot as plt\n",
        "import seaborn as sns\n",
        "from sklearn.model_selection import train_test_split\n",
        "from sklearn.tree import DecisionTreeClassifier\n",
        "from sklearn.metrics import accuracy_score, confusion_matrix, classification_report\n",
        "from sklearn.decomposition import PCA"
      ]
    },
    {
      "cell_type": "code",
      "source": [
        "class ManualRandomForest:\n",
        "    def __init__(self, n_estimators=10, sample_size=0.8, max_depth=None, max_features=None):\n",
        "        self.n_estimators = n_estimators\n",
        "        self.sample_size = sample_size\n",
        "        self.max_depth = max_depth\n",
        "        self.max_features = max_features\n",
        "        self.models = []\n",
        "        self.subsets = []\n",
        "\n",
        "    def fit(self, X, y):\n",
        "        self.models = []\n",
        "        self.subsets = []\n",
        "        n_samples = int(self.sample_size * len(X))\n",
        "        n_features = self.max_features if self.max_features else X.shape[1]\n",
        "\n",
        "        for _ in range(self.n_estimators):\n",
        "            indices = np.random.choice(len(X), n_samples, replace=True)\n",
        "            feature_indices = np.random.choice(X.shape[1], n_features, replace=False)\n",
        "            X_subset, y_subset = X[indices][:, feature_indices], y[indices]\n",
        "\n",
        "            model = DecisionTreeClassifier(max_depth=self.max_depth)\n",
        "            model.fit(X_subset, y_subset)\n",
        "            self.models.append((model, feature_indices))\n",
        "            self.subsets.append(indices)\n",
        "\n",
        "    def predict(self, X):\n",
        "        predictions = np.zeros((self.n_estimators, len(X)))\n",
        "        for i, (model, feature_indices) in enumerate(self.models):\n",
        "            predictions[i] = model.predict(X[:, feature_indices])\n",
        "\n",
        "        # Majority voting for classification\n",
        "        final_predictions = np.apply_along_axis(lambda x: np.bincount(x.astype(int)).argmax(), axis=0, arr=predictions)\n",
        "        return final_predictions\n",
        "\n",
        "    def evaluate(self, X_train, y_train, X_test, y_test):\n",
        "        y_train_pred = self.predict(X_train)\n",
        "        y_test_pred = self.predict(X_test)\n",
        "\n",
        "        train_acc = accuracy_score(y_train, y_train_pred)\n",
        "        test_acc = accuracy_score(y_test, y_test_pred)\n",
        "        cm = confusion_matrix(y_test, y_test_pred)\n",
        "        report = classification_report(y_test, y_test_pred)\n",
        "\n",
        "        print(\"Training Accuracy:\", train_acc)\n",
        "        print(\"Testing Accuracy:\", test_acc)\n",
        "        print(\"Confusion Matrix:\\n\", cm)\n",
        "        print(\"Classification Report:\\n\", report)\n",
        "\n",
        "        pca = PCA(n_components=2)\n",
        "        X_train_pca = pca.fit_transform(X_train)\n",
        "        X_test_pca = pca.transform(X_test)\n",
        "        X_pca = pca.transform(X)\n",
        "\n",
        "        xx, yy = np.meshgrid(np.linspace(X_pca[:,0].min()-1, X_pca[:,0].max()+1, 100),\n",
        "                            np.linspace(X_pca[:,1].min()-1, X_pca[:,1].max()+1, 100))\n",
        "        Z = manual_rf.predict(pca.inverse_transform(np.c_[xx.ravel(), yy.ravel()]))\n",
        "        Z = Z.reshape(xx.shape)\n",
        "\n",
        "        plt.figure(figsize=(8,6))\n",
        "        plt.contourf(xx, yy, Z, alpha=0.3, cmap='coolwarm')\n",
        "        sns.scatterplot(x=X_pca[:,0], y=X_pca[:,1], hue=y, palette='coolwarm', edgecolor='k')\n",
        "        plt.xlabel(\"PCA Component 1\")\n",
        "        plt.ylabel(\"PCA Component 2\")\n",
        "        plt.title(\"Decision Boundary of Manual Random Forest\")\n",
        "        plt.show()\n",
        "\n",
        "        plt.figure(figsize=(6,5))\n",
        "        sns.heatmap(confusion_matrix(y_test, manual_rf.predict(X_test)), annot=True, fmt='d', cmap='Blues')\n",
        "        plt.xlabel(\"Predicted\")\n",
        "        plt.ylabel(\"Actual\")\n",
        "        plt.title(\"Confusion Matrix\")\n",
        "        plt.show()\n",
        "\n",
        "\n",
        "        # return train_acc, test_acc, cm, report"
      ],
      "metadata": {
        "id": "FAWN5Flj2q8j"
      },
      "execution_count": 3,
      "outputs": []
    },
    {
      "cell_type": "code",
      "source": [
        "data = sns.load_dataset(\"penguins\").dropna()\n",
        "X = data.drop(columns=['species']).select_dtypes(include=[np.number]).values\n",
        "y = data['species'].astype('category').cat.codes.values\n",
        "\n",
        "X_train, X_test, y_train, y_test = train_test_split(X, y, test_size=0.2, random_state=42)"
      ],
      "metadata": {
        "id": "yc0ZoQ9W3HCf"
      },
      "execution_count": 5,
      "outputs": []
    },
    {
      "cell_type": "code",
      "source": [
        "manual_rf = ManualRandomForest(n_estimators=5, sample_size=0.8, max_depth=3, max_features=2)\n",
        "manual_rf.fit(X_train, y_train)\n",
        "manual_rf.evaluate(X_train, y_train, X_test, y_test)"
      ],
      "metadata": {
        "colab": {
          "base_uri": "https://localhost:8080/"
        },
        "id": "A8i87qOm3Hku",
        "outputId": "b2d811a9-6849-43d0-eebf-3908f084d934"
      },
      "execution_count": 7,
      "outputs": [
        {
          "output_type": "stream",
          "name": "stdout",
          "text": [
            "Training Accuracy: 0.8872180451127819\n",
            "Testing Accuracy: 0.8805970149253731\n",
            "Confusion Matrix:\n",
            " [[31  0  0]\n",
            " [ 7  6  0]\n",
            " [ 1  0 22]]\n",
            "Classification Report:\n",
            "               precision    recall  f1-score   support\n",
            "\n",
            "           0       0.79      1.00      0.89        31\n",
            "           1       1.00      0.46      0.63        13\n",
            "           2       1.00      0.96      0.98        23\n",
            "\n",
            "    accuracy                           0.88        67\n",
            "   macro avg       0.93      0.81      0.83        67\n",
            "weighted avg       0.91      0.88      0.87        67\n",
            "\n"
          ]
        }
      ]
    },
    {
      "cell_type": "code",
      "source": [],
      "metadata": {
        "id": "gjTVpSsW3qCT"
      },
      "execution_count": null,
      "outputs": []
    }
  ]
}