{
  "nbformat": 4,
  "nbformat_minor": 0,
  "metadata": {
    "colab": {
      "provenance": [],
      "authorship_tag": "ABX9TyMhVXb/kOiEdFICv/dY31O9",
      "include_colab_link": true
    },
    "kernelspec": {
      "name": "python3",
      "display_name": "Python 3"
    },
    "language_info": {
      "name": "python"
    }
  },
  "cells": [
    {
      "cell_type": "markdown",
      "metadata": {
        "id": "view-in-github",
        "colab_type": "text"
      },
      "source": [
        "<a href=\"https://colab.research.google.com/github/Ehtisham1053/Classification-ML-algorithms/blob/main/Random_forest_Classification.ipynb\" target=\"_parent\"><img src=\"https://colab.research.google.com/assets/colab-badge.svg\" alt=\"Open In Colab\"/></a>"
      ]
    },
    {
      "cell_type": "markdown",
      "source": [
        "## Manual implementation without using the sklearn class"
      ],
      "metadata": {
        "id": "HRwEqtza25V0"
      }
    },
    {
      "cell_type": "code",
      "execution_count": 2,
      "metadata": {
        "id": "K2f6ngEC1AvR"
      },
      "outputs": [],
      "source": [
        "import numpy as np\n",
        "import matplotlib.pyplot as plt\n",
        "import seaborn as sns\n",
        "from sklearn.model_selection import train_test_split\n",
        "from sklearn.tree import DecisionTreeClassifier\n",
        "from sklearn.metrics import accuracy_score, confusion_matrix, classification_report\n",
        "from sklearn.decomposition import PCA"
      ]
    },
    {
      "cell_type": "code",
      "source": [
        "class ManualRandomForest:\n",
        "    def __init__(self, n_estimators=10, sample_size=0.8, max_depth=None, max_features=None):\n",
        "        self.n_estimators = n_estimators\n",
        "        self.sample_size = sample_size\n",
        "        self.max_depth = max_depth\n",
        "        self.max_features = max_features\n",
        "        self.models = []\n",
        "        self.subsets = []\n",
        "\n",
        "    def fit(self, X, y):\n",
        "        self.models = []\n",
        "        self.subsets = []\n",
        "        n_samples = int(self.sample_size * len(X))\n",
        "        n_features = self.max_features if self.max_features else X.shape[1]\n",
        "\n",
        "        for _ in range(self.n_estimators):\n",
        "            indices = np.random.choice(len(X), n_samples, replace=True)\n",
        "            feature_indices = np.random.choice(X.shape[1], n_features, replace=False)\n",
        "            X_subset, y_subset = X[indices][:, feature_indices], y[indices]\n",
        "\n",
        "            model = DecisionTreeClassifier(max_depth=self.max_depth)\n",
        "            model.fit(X_subset, y_subset)\n",
        "            self.models.append((model, feature_indices))\n",
        "            self.subsets.append(indices)\n",
        "\n",
        "    def predict(self, X):\n",
        "        predictions = np.zeros((self.n_estimators, len(X)))\n",
        "        for i, (model, feature_indices) in enumerate(self.models):\n",
        "            predictions[i] = model.predict(X[:, feature_indices])\n",
        "\n",
        "        # Majority voting for classification\n",
        "        final_predictions = np.apply_along_axis(lambda x: np.bincount(x.astype(int)).argmax(), axis=0, arr=predictions)\n",
        "        return final_predictions\n",
        "\n",
        "    def evaluate(self, X_train, y_train, X_test, y_test):\n",
        "        y_train_pred = self.predict(X_train)\n",
        "        y_test_pred = self.predict(X_test)\n",
        "\n",
        "        train_acc = accuracy_score(y_train, y_train_pred)\n",
        "        test_acc = accuracy_score(y_test, y_test_pred)\n",
        "        cm = confusion_matrix(y_test, y_test_pred)\n",
        "        report = classification_report(y_test, y_test_pred)\n",
        "\n",
        "        print(\"Training Accuracy:\", train_acc)\n",
        "        print(\"Testing Accuracy:\", test_acc)\n",
        "        print(\"Confusion Matrix:\\n\", cm)\n",
        "        print(\"Classification Report:\\n\", report)\n",
        "\n",
        "        # return train_acc, test_acc, cm, report"
      ],
      "metadata": {
        "id": "FAWN5Flj2q8j"
      },
      "execution_count": 3,
      "outputs": []
    },
    {
      "cell_type": "code",
      "source": [
        "data = sns.load_dataset(\"penguins\").dropna()\n",
        "X = data.drop(columns=['species']).select_dtypes(include=[np.number]).values\n",
        "y = data['species'].astype('category').cat.codes.values\n",
        "\n",
        "X_train, X_test, y_train, y_test = train_test_split(X, y, test_size=0.2, random_state=42)"
      ],
      "metadata": {
        "id": "yc0ZoQ9W3HCf"
      },
      "execution_count": 5,
      "outputs": []
    },
    {
      "cell_type": "code",
      "source": [],
      "metadata": {
        "id": "A8i87qOm3Hku"
      },
      "execution_count": null,
      "outputs": []
    }
  ]
}