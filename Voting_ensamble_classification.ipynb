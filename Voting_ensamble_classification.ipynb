{
  "nbformat": 4,
  "nbformat_minor": 0,
  "metadata": {
    "colab": {
      "provenance": [],
      "authorship_tag": "ABX9TyOQLvZ2C9HlCDTQD26a/I4O",
      "include_colab_link": true
    },
    "kernelspec": {
      "name": "python3",
      "display_name": "Python 3"
    },
    "language_info": {
      "name": "python"
    },
    "widgets": {
      "application/vnd.jupyter.widget-state+json": {
        "bcc10163a7ab40e8b1f9ca43ed328f47": {
          "model_module": "@jupyter-widgets/controls",
          "model_name": "IntSliderModel",
          "model_module_version": "1.5.0",
          "state": {
            "_dom_classes": [],
            "_model_module": "@jupyter-widgets/controls",
            "_model_module_version": "1.5.0",
            "_model_name": "IntSliderModel",
            "_view_count": null,
            "_view_module": "@jupyter-widgets/controls",
            "_view_module_version": "1.5.0",
            "_view_name": "IntSliderView",
            "continuous_update": true,
            "description": "Logistic Regression",
            "description_tooltip": null,
            "disabled": false,
            "layout": "IPY_MODEL_cea9f28976714604b941d1e951ae51f3",
            "max": 5,
            "min": 0,
            "orientation": "horizontal",
            "readout": true,
            "readout_format": "d",
            "step": 1,
            "style": "IPY_MODEL_454d96ebca654fe0b85ec2369e1c360c",
            "value": 1
          }
        },
        "cea9f28976714604b941d1e951ae51f3": {
          "model_module": "@jupyter-widgets/base",
          "model_name": "LayoutModel",
          "model_module_version": "1.2.0",
          "state": {
            "_model_module": "@jupyter-widgets/base",
            "_model_module_version": "1.2.0",
            "_model_name": "LayoutModel",
            "_view_count": null,
            "_view_module": "@jupyter-widgets/base",
            "_view_module_version": "1.2.0",
            "_view_name": "LayoutView",
            "align_content": null,
            "align_items": null,
            "align_self": null,
            "border": null,
            "bottom": null,
            "display": null,
            "flex": null,
            "flex_flow": null,
            "grid_area": null,
            "grid_auto_columns": null,
            "grid_auto_flow": null,
            "grid_auto_rows": null,
            "grid_column": null,
            "grid_gap": null,
            "grid_row": null,
            "grid_template_areas": null,
            "grid_template_columns": null,
            "grid_template_rows": null,
            "height": null,
            "justify_content": null,
            "justify_items": null,
            "left": null,
            "margin": null,
            "max_height": null,
            "max_width": null,
            "min_height": null,
            "min_width": null,
            "object_fit": null,
            "object_position": null,
            "order": null,
            "overflow": null,
            "overflow_x": null,
            "overflow_y": null,
            "padding": null,
            "right": null,
            "top": null,
            "visibility": null,
            "width": null
          }
        },
        "454d96ebca654fe0b85ec2369e1c360c": {
          "model_module": "@jupyter-widgets/controls",
          "model_name": "SliderStyleModel",
          "model_module_version": "1.5.0",
          "state": {
            "_model_module": "@jupyter-widgets/controls",
            "_model_module_version": "1.5.0",
            "_model_name": "SliderStyleModel",
            "_view_count": null,
            "_view_module": "@jupyter-widgets/base",
            "_view_module_version": "1.2.0",
            "_view_name": "StyleView",
            "description_width": "initial",
            "handle_color": null
          }
        },
        "02e42c86c4114e029f74ac3bae9a4f8a": {
          "model_module": "@jupyter-widgets/controls",
          "model_name": "IntSliderModel",
          "model_module_version": "1.5.0",
          "state": {
            "_dom_classes": [],
            "_model_module": "@jupyter-widgets/controls",
            "_model_module_version": "1.5.0",
            "_model_name": "IntSliderModel",
            "_view_count": null,
            "_view_module": "@jupyter-widgets/controls",
            "_view_module_version": "1.5.0",
            "_view_name": "IntSliderView",
            "continuous_update": true,
            "description": "SVM",
            "description_tooltip": null,
            "disabled": false,
            "layout": "IPY_MODEL_221ed80a4f3d43ec901a7c8bc720228d",
            "max": 5,
            "min": 0,
            "orientation": "horizontal",
            "readout": true,
            "readout_format": "d",
            "step": 1,
            "style": "IPY_MODEL_78f5887bddcc4ee0a184aea3048bb2c8",
            "value": 1
          }
        },
        "221ed80a4f3d43ec901a7c8bc720228d": {
          "model_module": "@jupyter-widgets/base",
          "model_name": "LayoutModel",
          "model_module_version": "1.2.0",
          "state": {
            "_model_module": "@jupyter-widgets/base",
            "_model_module_version": "1.2.0",
            "_model_name": "LayoutModel",
            "_view_count": null,
            "_view_module": "@jupyter-widgets/base",
            "_view_module_version": "1.2.0",
            "_view_name": "LayoutView",
            "align_content": null,
            "align_items": null,
            "align_self": null,
            "border": null,
            "bottom": null,
            "display": null,
            "flex": null,
            "flex_flow": null,
            "grid_area": null,
            "grid_auto_columns": null,
            "grid_auto_flow": null,
            "grid_auto_rows": null,
            "grid_column": null,
            "grid_gap": null,
            "grid_row": null,
            "grid_template_areas": null,
            "grid_template_columns": null,
            "grid_template_rows": null,
            "height": null,
            "justify_content": null,
            "justify_items": null,
            "left": null,
            "margin": null,
            "max_height": null,
            "max_width": null,
            "min_height": null,
            "min_width": null,
            "object_fit": null,
            "object_position": null,
            "order": null,
            "overflow": null,
            "overflow_x": null,
            "overflow_y": null,
            "padding": null,
            "right": null,
            "top": null,
            "visibility": null,
            "width": null
          }
        },
        "78f5887bddcc4ee0a184aea3048bb2c8": {
          "model_module": "@jupyter-widgets/controls",
          "model_name": "SliderStyleModel",
          "model_module_version": "1.5.0",
          "state": {
            "_model_module": "@jupyter-widgets/controls",
            "_model_module_version": "1.5.0",
            "_model_name": "SliderStyleModel",
            "_view_count": null,
            "_view_module": "@jupyter-widgets/base",
            "_view_module_version": "1.2.0",
            "_view_name": "StyleView",
            "description_width": "initial",
            "handle_color": null
          }
        },
        "a8b83821fc644fbf80270031006da889": {
          "model_module": "@jupyter-widgets/controls",
          "model_name": "IntSliderModel",
          "model_module_version": "1.5.0",
          "state": {
            "_dom_classes": [],
            "_model_module": "@jupyter-widgets/controls",
            "_model_module_version": "1.5.0",
            "_model_name": "IntSliderModel",
            "_view_count": null,
            "_view_module": "@jupyter-widgets/controls",
            "_view_module_version": "1.5.0",
            "_view_name": "IntSliderView",
            "continuous_update": true,
            "description": "Decision Tree",
            "description_tooltip": null,
            "disabled": false,
            "layout": "IPY_MODEL_e100d857be884c3cab07807023655ce4",
            "max": 5,
            "min": 0,
            "orientation": "horizontal",
            "readout": true,
            "readout_format": "d",
            "step": 1,
            "style": "IPY_MODEL_992e8fb3944d460b96e850219fff1182",
            "value": 0
          }
        },
        "e100d857be884c3cab07807023655ce4": {
          "model_module": "@jupyter-widgets/base",
          "model_name": "LayoutModel",
          "model_module_version": "1.2.0",
          "state": {
            "_model_module": "@jupyter-widgets/base",
            "_model_module_version": "1.2.0",
            "_model_name": "LayoutModel",
            "_view_count": null,
            "_view_module": "@jupyter-widgets/base",
            "_view_module_version": "1.2.0",
            "_view_name": "LayoutView",
            "align_content": null,
            "align_items": null,
            "align_self": null,
            "border": null,
            "bottom": null,
            "display": null,
            "flex": null,
            "flex_flow": null,
            "grid_area": null,
            "grid_auto_columns": null,
            "grid_auto_flow": null,
            "grid_auto_rows": null,
            "grid_column": null,
            "grid_gap": null,
            "grid_row": null,
            "grid_template_areas": null,
            "grid_template_columns": null,
            "grid_template_rows": null,
            "height": null,
            "justify_content": null,
            "justify_items": null,
            "left": null,
            "margin": null,
            "max_height": null,
            "max_width": null,
            "min_height": null,
            "min_width": null,
            "object_fit": null,
            "object_position": null,
            "order": null,
            "overflow": null,
            "overflow_x": null,
            "overflow_y": null,
            "padding": null,
            "right": null,
            "top": null,
            "visibility": null,
            "width": null
          }
        },
        "992e8fb3944d460b96e850219fff1182": {
          "model_module": "@jupyter-widgets/controls",
          "model_name": "SliderStyleModel",
          "model_module_version": "1.5.0",
          "state": {
            "_model_module": "@jupyter-widgets/controls",
            "_model_module_version": "1.5.0",
            "_model_name": "SliderStyleModel",
            "_view_count": null,
            "_view_module": "@jupyter-widgets/base",
            "_view_module_version": "1.2.0",
            "_view_name": "StyleView",
            "description_width": "initial",
            "handle_color": null
          }
        },
        "a37fc7b5468a4093bc007833d0ec1d22": {
          "model_module": "@jupyter-widgets/controls",
          "model_name": "IntSliderModel",
          "model_module_version": "1.5.0",
          "state": {
            "_dom_classes": [],
            "_model_module": "@jupyter-widgets/controls",
            "_model_module_version": "1.5.0",
            "_model_name": "IntSliderModel",
            "_view_count": null,
            "_view_module": "@jupyter-widgets/controls",
            "_view_module_version": "1.5.0",
            "_view_name": "IntSliderView",
            "continuous_update": true,
            "description": "Random Forest",
            "description_tooltip": null,
            "disabled": false,
            "layout": "IPY_MODEL_ed3d066f167e4067b87d720cffc45f13",
            "max": 5,
            "min": 0,
            "orientation": "horizontal",
            "readout": true,
            "readout_format": "d",
            "step": 1,
            "style": "IPY_MODEL_a7b7ad4d16e8453c834d352a66d12650",
            "value": 0
          }
        },
        "ed3d066f167e4067b87d720cffc45f13": {
          "model_module": "@jupyter-widgets/base",
          "model_name": "LayoutModel",
          "model_module_version": "1.2.0",
          "state": {
            "_model_module": "@jupyter-widgets/base",
            "_model_module_version": "1.2.0",
            "_model_name": "LayoutModel",
            "_view_count": null,
            "_view_module": "@jupyter-widgets/base",
            "_view_module_version": "1.2.0",
            "_view_name": "LayoutView",
            "align_content": null,
            "align_items": null,
            "align_self": null,
            "border": null,
            "bottom": null,
            "display": null,
            "flex": null,
            "flex_flow": null,
            "grid_area": null,
            "grid_auto_columns": null,
            "grid_auto_flow": null,
            "grid_auto_rows": null,
            "grid_column": null,
            "grid_gap": null,
            "grid_row": null,
            "grid_template_areas": null,
            "grid_template_columns": null,
            "grid_template_rows": null,
            "height": null,
            "justify_content": null,
            "justify_items": null,
            "left": null,
            "margin": null,
            "max_height": null,
            "max_width": null,
            "min_height": null,
            "min_width": null,
            "object_fit": null,
            "object_position": null,
            "order": null,
            "overflow": null,
            "overflow_x": null,
            "overflow_y": null,
            "padding": null,
            "right": null,
            "top": null,
            "visibility": null,
            "width": null
          }
        },
        "a7b7ad4d16e8453c834d352a66d12650": {
          "model_module": "@jupyter-widgets/controls",
          "model_name": "SliderStyleModel",
          "model_module_version": "1.5.0",
          "state": {
            "_model_module": "@jupyter-widgets/controls",
            "_model_module_version": "1.5.0",
            "_model_name": "SliderStyleModel",
            "_view_count": null,
            "_view_module": "@jupyter-widgets/base",
            "_view_module_version": "1.2.0",
            "_view_name": "StyleView",
            "description_width": "initial",
            "handle_color": null
          }
        },
        "5f04ff44f6bd4559b884f9fa530864d3": {
          "model_module": "@jupyter-widgets/controls",
          "model_name": "DropdownModel",
          "model_module_version": "1.5.0",
          "state": {
            "_dom_classes": [],
            "_model_module": "@jupyter-widgets/controls",
            "_model_module_version": "1.5.0",
            "_model_name": "DropdownModel",
            "_options_labels": [
              "hard",
              "soft"
            ],
            "_view_count": null,
            "_view_module": "@jupyter-widgets/controls",
            "_view_module_version": "1.5.0",
            "_view_name": "DropdownView",
            "description": "Voting Type",
            "description_tooltip": null,
            "disabled": false,
            "index": 0,
            "layout": "IPY_MODEL_2b668635a4174bfea0df2a60b619a96e",
            "style": "IPY_MODEL_d527a1df13df43098fda87527ddced0e"
          }
        },
        "2b668635a4174bfea0df2a60b619a96e": {
          "model_module": "@jupyter-widgets/base",
          "model_name": "LayoutModel",
          "model_module_version": "1.2.0",
          "state": {
            "_model_module": "@jupyter-widgets/base",
            "_model_module_version": "1.2.0",
            "_model_name": "LayoutModel",
            "_view_count": null,
            "_view_module": "@jupyter-widgets/base",
            "_view_module_version": "1.2.0",
            "_view_name": "LayoutView",
            "align_content": null,
            "align_items": null,
            "align_self": null,
            "border": null,
            "bottom": null,
            "display": null,
            "flex": null,
            "flex_flow": null,
            "grid_area": null,
            "grid_auto_columns": null,
            "grid_auto_flow": null,
            "grid_auto_rows": null,
            "grid_column": null,
            "grid_gap": null,
            "grid_row": null,
            "grid_template_areas": null,
            "grid_template_columns": null,
            "grid_template_rows": null,
            "height": null,
            "justify_content": null,
            "justify_items": null,
            "left": null,
            "margin": null,
            "max_height": null,
            "max_width": null,
            "min_height": null,
            "min_width": null,
            "object_fit": null,
            "object_position": null,
            "order": null,
            "overflow": null,
            "overflow_x": null,
            "overflow_y": null,
            "padding": null,
            "right": null,
            "top": null,
            "visibility": null,
            "width": null
          }
        },
        "d527a1df13df43098fda87527ddced0e": {
          "model_module": "@jupyter-widgets/controls",
          "model_name": "DescriptionStyleModel",
          "model_module_version": "1.5.0",
          "state": {
            "_model_module": "@jupyter-widgets/controls",
            "_model_module_version": "1.5.0",
            "_model_name": "DescriptionStyleModel",
            "_view_count": null,
            "_view_module": "@jupyter-widgets/base",
            "_view_module_version": "1.2.0",
            "_view_name": "StyleView",
            "description_width": ""
          }
        },
        "4390390c45034f04b16ed32e64001782": {
          "model_module": "@jupyter-widgets/controls",
          "model_name": "ButtonModel",
          "model_module_version": "1.5.0",
          "state": {
            "_dom_classes": [],
            "_model_module": "@jupyter-widgets/controls",
            "_model_module_version": "1.5.0",
            "_model_name": "ButtonModel",
            "_view_count": null,
            "_view_module": "@jupyter-widgets/controls",
            "_view_module_version": "1.5.0",
            "_view_name": "ButtonView",
            "button_style": "",
            "description": "Train Ensemble",
            "disabled": false,
            "icon": "",
            "layout": "IPY_MODEL_aa1ca7f743484f499613c57667c6ca63",
            "style": "IPY_MODEL_a826c9c06d1b4811b2d97a8febce37b6",
            "tooltip": ""
          }
        },
        "aa1ca7f743484f499613c57667c6ca63": {
          "model_module": "@jupyter-widgets/base",
          "model_name": "LayoutModel",
          "model_module_version": "1.2.0",
          "state": {
            "_model_module": "@jupyter-widgets/base",
            "_model_module_version": "1.2.0",
            "_model_name": "LayoutModel",
            "_view_count": null,
            "_view_module": "@jupyter-widgets/base",
            "_view_module_version": "1.2.0",
            "_view_name": "LayoutView",
            "align_content": null,
            "align_items": null,
            "align_self": null,
            "border": null,
            "bottom": null,
            "display": null,
            "flex": null,
            "flex_flow": null,
            "grid_area": null,
            "grid_auto_columns": null,
            "grid_auto_flow": null,
            "grid_auto_rows": null,
            "grid_column": null,
            "grid_gap": null,
            "grid_row": null,
            "grid_template_areas": null,
            "grid_template_columns": null,
            "grid_template_rows": null,
            "height": null,
            "justify_content": null,
            "justify_items": null,
            "left": null,
            "margin": null,
            "max_height": null,
            "max_width": null,
            "min_height": null,
            "min_width": null,
            "object_fit": null,
            "object_position": null,
            "order": null,
            "overflow": null,
            "overflow_x": null,
            "overflow_y": null,
            "padding": null,
            "right": null,
            "top": null,
            "visibility": null,
            "width": null
          }
        },
        "a826c9c06d1b4811b2d97a8febce37b6": {
          "model_module": "@jupyter-widgets/controls",
          "model_name": "ButtonStyleModel",
          "model_module_version": "1.5.0",
          "state": {
            "_model_module": "@jupyter-widgets/controls",
            "_model_module_version": "1.5.0",
            "_model_name": "ButtonStyleModel",
            "_view_count": null,
            "_view_module": "@jupyter-widgets/base",
            "_view_module_version": "1.2.0",
            "_view_name": "StyleView",
            "button_color": null,
            "font_weight": ""
          }
        },
        "7a30e58052a6489780b73156b8d4c4d7": {
          "model_module": "@jupyter-widgets/output",
          "model_name": "OutputModel",
          "model_module_version": "1.0.0",
          "state": {
            "_dom_classes": [],
            "_model_module": "@jupyter-widgets/output",
            "_model_module_version": "1.0.0",
            "_model_name": "OutputModel",
            "_view_count": null,
            "_view_module": "@jupyter-widgets/output",
            "_view_module_version": "1.0.0",
            "_view_name": "OutputView",
            "layout": "IPY_MODEL_bf4f24c13f2844d19134a031befa65be",
            "msg_id": "",
            "outputs": [
              {
                "output_type": "stream",
                "name": "stdout",
                "text": [
                  "Classification Report:\n",
                  "              precision    recall  f1-score   support\n",
                  "\n",
                  "           0       0.97      0.91      0.94        43\n",
                  "           1       0.95      0.99      0.97        71\n",
                  "\n",
                  "    accuracy                           0.96       114\n",
                  "   macro avg       0.96      0.95      0.95       114\n",
                  "weighted avg       0.96      0.96      0.96       114\n",
                  "\n",
                  "Confusion Matrix:\n"
                ]
              },
              {
                "output_type": "display_data",
                "data": {
                  "text/plain": "<Figure size 640x480 with 2 Axes>",
                  "image/png": "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\n"
                },
                "metadata": {}
              },
              {
                "output_type": "display_data",
                "data": {
                  "text/plain": "<Figure size 640x480 with 1 Axes>",
                  "image/png": "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\n"
                },
                "metadata": {}
              }
            ]
          }
        },
        "bf4f24c13f2844d19134a031befa65be": {
          "model_module": "@jupyter-widgets/base",
          "model_name": "LayoutModel",
          "model_module_version": "1.2.0",
          "state": {
            "_model_module": "@jupyter-widgets/base",
            "_model_module_version": "1.2.0",
            "_model_name": "LayoutModel",
            "_view_count": null,
            "_view_module": "@jupyter-widgets/base",
            "_view_module_version": "1.2.0",
            "_view_name": "LayoutView",
            "align_content": null,
            "align_items": null,
            "align_self": null,
            "border": null,
            "bottom": null,
            "display": null,
            "flex": null,
            "flex_flow": null,
            "grid_area": null,
            "grid_auto_columns": null,
            "grid_auto_flow": null,
            "grid_auto_rows": null,
            "grid_column": null,
            "grid_gap": null,
            "grid_row": null,
            "grid_template_areas": null,
            "grid_template_columns": null,
            "grid_template_rows": null,
            "height": null,
            "justify_content": null,
            "justify_items": null,
            "left": null,
            "margin": null,
            "max_height": null,
            "max_width": null,
            "min_height": null,
            "min_width": null,
            "object_fit": null,
            "object_position": null,
            "order": null,
            "overflow": null,
            "overflow_x": null,
            "overflow_y": null,
            "padding": null,
            "right": null,
            "top": null,
            "visibility": null,
            "width": null
          }
        }
      }
    }
  },
  "cells": [
    {
      "cell_type": "markdown",
      "metadata": {
        "id": "view-in-github",
        "colab_type": "text"
      },
      "source": [
        "<a href=\"https://colab.research.google.com/github/Ehtisham1053/Classification-ML-algorithms/blob/main/Voting_ensamble_classification.ipynb\" target=\"_parent\"><img src=\"https://colab.research.google.com/assets/colab-badge.svg\" alt=\"Open In Colab\"/></a>"
      ]
    },
    {
      "cell_type": "markdown",
      "source": [
        "## Voting Ensemble in Classification\n",
        "\n",
        "Voting Ensemble is a machine learning technique that combines multiple models to improve classification performance. It operates on the principle that aggregating predictions from diverse models results in better generalization and robustness. There are two main types of voting:\n",
        "\n",
        "- **Hard Voting**: Each model casts a \"vote\" for a class, and the class with the most votes is chosen as the final prediction.\n",
        "- **Soft Voting**: Instead of discrete votes, the models output probability distributions over classes, and the final prediction is made by averaging these probabilities.\n",
        "\n",
        "Voting ensembles work well when the individual models are diverse (i.e., they capture different patterns in the data). They are particularly useful for non-linear classification problems where a single model may not perform optimally. By combining multiple models, voting ensembles reduce the risk of overfitting and improve the overall predictive accuracy.\n"
      ],
      "metadata": {
        "id": "E79biiKu_A4G"
      }
    },
    {
      "cell_type": "code",
      "execution_count": null,
      "metadata": {
        "id": "CKL8QW6jtQfi"
      },
      "outputs": [],
      "source": [
        "import numpy as np\n",
        "import matplotlib.pyplot as plt\n",
        "import seaborn as sns\n",
        "from sklearn.ensemble import VotingClassifier\n",
        "from sklearn.metrics import classification_report, confusion_matrix, accuracy_score\n",
        "from sklearn.linear_model import LogisticRegression\n",
        "from sklearn.ensemble import RandomForestClassifier\n",
        "from sklearn.svm import SVC\n",
        "from sklearn.naive_bayes import GaussianNB\n",
        "from sklearn.tree import DecisionTreeClassifier\n",
        "from sklearn.datasets import make_classification\n",
        "from sklearn.model_selection import train_test_split\n",
        "\n",
        "class VotingEnsemble:\n",
        "    def __init__(self, models=None):\n",
        "        \"\"\"\n",
        "        Initialize the ensemble with user-defined or default models.\n",
        "        \"\"\"\n",
        "        self.models = models if models else {\n",
        "            'log_reg': LogisticRegression(),\n",
        "            'random_forest': RandomForestClassifier(),\n",
        "            'svc': SVC(probability=True),\n",
        "            'naive_bayes': GaussianNB(),\n",
        "            'decision_tree': DecisionTreeClassifier()\n",
        "        }\n",
        "        self.ensemble = None\n",
        "\n",
        "    def train(self, x_train, y_train, selected_models, voting_type='soft'):\n",
        "        \"\"\"\n",
        "        Train the voting ensemble with selected models and user-defined voting type.\n",
        "        \"\"\"\n",
        "        estimators = [(name, self.models[name]) for name in selected_models if name in self.models]\n",
        "        self.ensemble = VotingClassifier(estimators=estimators, voting=voting_type)\n",
        "        self.ensemble.fit(x_train, y_train)\n",
        "\n",
        "    def get_classification_report(self, x_test, y_test):\n",
        "        \"\"\"\n",
        "        Generate the classification report.\n",
        "        \"\"\"\n",
        "        y_pred = self.ensemble.predict(x_test)\n",
        "        return classification_report(y_test, y_pred)\n",
        "\n",
        "    def plot_confusion_matrix(self, x_test, y_test):\n",
        "        \"\"\"\n",
        "        Plot the confusion matrix.\n",
        "        \"\"\"\n",
        "        y_pred = self.ensemble.predict(x_test)\n",
        "        cm = confusion_matrix(y_test, y_pred)\n",
        "        plt.figure(figsize=(6,5))\n",
        "        sns.heatmap(cm, annot=True, fmt='d', cmap='Blues', xticklabels=np.unique(y_test), yticklabels=np.unique(y_test))\n",
        "        plt.xlabel('Predicted')\n",
        "        plt.ylabel('Actual')\n",
        "        plt.title('Confusion Matrix')\n",
        "        plt.show()\n",
        "\n",
        "    def get_model_accuracies(self, x_test, y_test):\n",
        "            \"\"\"\n",
        "            Compute accuracy for each individual model in the ensemble.\n",
        "            \"\"\"\n",
        "            accuracies = {}\n",
        "\n",
        "            for name, model in self.ensemble.estimators:\n",
        "                if not hasattr(model, \"coef_\") and not hasattr(model, \"classes_\"):\n",
        "                    model.fit(x_test, y_test)\n",
        "                y_pred = model.predict(x_test)\n",
        "                accuracies[name] = accuracy_score(y_test, y_pred)\n",
        "            return accuracies"
      ]
    },
    {
      "cell_type": "markdown",
      "source": [
        "##    # Binary Classification Dataset"
      ],
      "metadata": {
        "id": "oJGQbiXAubu6"
      }
    },
    {
      "cell_type": "code",
      "source": [
        "X_bin, y_bin = make_classification(n_samples=1000, n_features=20, n_classes=2, random_state=42)\n",
        "X_train_bin, X_test_bin, y_train_bin, y_test_bin = train_test_split(X_bin, y_bin, test_size=0.2, random_state=42)\n",
        "print(\"Binary Classification Example:\")\n",
        "ensemble_bin = VotingEnsemble()\n",
        "ensemble_bin.train(X_train_bin, y_train_bin, ['svc'], voting_type='hard')\n",
        "print(ensemble_bin.get_classification_report(X_test_bin, y_test_bin))\n",
        "ensemble_bin.plot_confusion_matrix(X_test_bin, y_test_bin)\n",
        "print(\"Model Accuracies:\", ensemble_bin.get_model_accuracies(X_test_bin, y_test_bin))"
      ],
      "metadata": {
        "colab": {
          "base_uri": "https://localhost:8080/",
          "height": 688
        },
        "id": "gD5KwlXythGT",
        "outputId": "76ec827f-2562-4d4b-cf07-86ff09a9757d"
      },
      "execution_count": null,
      "outputs": [
        {
          "output_type": "stream",
          "name": "stdout",
          "text": [
            "Binary Classification Example:\n",
            "              precision    recall  f1-score   support\n",
            "\n",
            "           0       0.80      0.89      0.84        93\n",
            "           1       0.90      0.80      0.85       107\n",
            "\n",
            "    accuracy                           0.84       200\n",
            "   macro avg       0.85      0.85      0.84       200\n",
            "weighted avg       0.85      0.84      0.85       200\n",
            "\n"
          ]
        },
        {
          "output_type": "display_data",
          "data": {
            "text/plain": [
              "<Figure size 600x500 with 2 Axes>"
            ],
            "image/png": "[encoded data removed]"
          },
          "metadata": {}
        },
        {
          "output_type": "stream",
          "name": "stdout",
          "text": [
            "Model Accuracies: {'svc': 0.945}\n"
          ]
        }
      ]
    },
    {
      "cell_type": "markdown",
      "source": [
        "### multi class classification"
      ],
      "metadata": {
        "id": "Rmxtn__p9dRJ"
      }
    },
    {
      "cell_type": "code",
      "source": [
        "X_multi, y_multi = make_classification(n_samples=1000, n_features=20, n_classes=3, n_informative=15, random_state=42)\n",
        "X_train_multi, X_test_multi, y_train_multi, y_test_multi = train_test_split(X_multi, y_multi, test_size=0.2, random_state=42)\n",
        "\n",
        "print(\"\\nMulti-Class Classification Example:\")\n",
        "ensemble_multi = VotingEnsemble()\n",
        "ensemble_multi.train(X_train_multi, y_train_multi, [ 'random_forest', 'svc'], voting_type='soft')\n",
        "print(\"Model Accuracies:\", ensemble_multi.get_model_accuracies(X_test_multi, y_test_multi))\n",
        "print(ensemble_multi.get_classification_report(X_test_multi, y_test_multi))\n",
        "ensemble_multi.plot_confusion_matrix(X_test_multi, y_test_multi)"
      ],
      "metadata": {
        "colab": {
          "base_uri": "https://localhost:8080/",
          "height": 724
        },
        "id": "AaDKB4fgvNNS",
        "outputId": "2c3d1769-3ee5-4260-dd7c-e382a4f33755"
      },
      "execution_count": null,
      "outputs": [
        {
          "output_type": "stream",
          "name": "stdout",
          "text": [
            "\n",
            "Multi-Class Classification Example:\n",
            "Model Accuracies: {'random_forest': 1.0, 'svc': 0.865}\n",
            "              precision    recall  f1-score   support\n",
            "\n",
            "           0       0.80      0.86      0.83        66\n",
            "           1       0.68      0.71      0.70        63\n",
            "           2       0.79      0.70      0.75        71\n",
            "\n",
            "    accuracy                           0.76       200\n",
            "   macro avg       0.76      0.76      0.76       200\n",
            "weighted avg       0.76      0.76      0.76       200\n",
            "\n"
          ]
        },
        {
          "output_type": "display_data",
          "data": {
            "text/plain": [
              "<Figure size 600x500 with 2 Axes>"
            ],
            "image/png": "[encoded data removed]"
          },
          "metadata": {}
        }
      ]
    },
    {
      "cell_type": "markdown",
      "source": [
        "## Importing the dataset from the SNS"
      ],
      "metadata": {
        "id": "htrSNrUa9sAY"
      }
    },
    {
      "cell_type": "code",
      "source": [
        "\n",
        "import seaborn as sns\n",
        "iris = sns.load_dataset('iris')\n",
        "X_sns = iris.drop(columns=['species']).values\n",
        "y_sns = iris['species'].astype('category').cat.codes.values\n",
        "X_train_sns, X_test_sns, y_train_sns, y_test_sns = train_test_split(X_sns, y_sns, test_size=0.2, random_state=42)\n",
        "\n",
        "print(\"\\nSeaborn Dataset (Iris) Example:\")\n",
        "ensemble_sns = VotingEnsemble()\n",
        "ensemble_sns.train(X_train_sns, y_train_sns, ['log_reg', 'random_forest', 'svc'], voting_type='soft')\n",
        "print(\"Model Accuracies:\", ensemble_sns.get_model_accuracies(X_test_sns, y_test_sns))\n",
        "print(ensemble_sns.get_classification_report(X_test_sns, y_test_sns))\n",
        "ensemble_sns.plot_confusion_matrix(X_test_sns, y_test_sns)"
      ],
      "metadata": {
        "colab": {
          "base_uri": "https://localhost:8080/",
          "height": 724
        },
        "id": "g_peMcZGxF3M",
        "outputId": "2ba66bde-b05f-49f8-d75a-55f1e99817fc"
      },
      "execution_count": null,
      "outputs": [
        {
          "output_type": "stream",
          "name": "stdout",
          "text": [
            "\n",
            "Seaborn Dataset (Iris) Example:\n",
            "Model Accuracies: {'log_reg': 1.0, 'random_forest': 1.0, 'svc': 0.9666666666666667}\n",
            "              precision    recall  f1-score   support\n",
            "\n",
            "           0       1.00      1.00      1.00        10\n",
            "           1       1.00      1.00      1.00         9\n",
            "           2       1.00      1.00      1.00        11\n",
            "\n",
            "    accuracy                           1.00        30\n",
            "   macro avg       1.00      1.00      1.00        30\n",
            "weighted avg       1.00      1.00      1.00        30\n",
            "\n"
          ]
        },
        {
          "output_type": "display_data",
          "data": {
            "text/plain": [
              "<Figure size 600x500 with 2 Axes>"
            ],
            "image/png": "[encoded data removed]"
          },
          "metadata": {}
        }
      ]
    },
    {
      "cell_type": "code",
      "source": [
        "import numpy as np\n",
        "import matplotlib.pyplot as plt\n",
        "import seaborn as sns\n",
        "from sklearn.ensemble import VotingClassifier\n",
        "from sklearn.metrics import classification_report, confusion_matrix, accuracy_score\n",
        "from sklearn.svm import SVC\n",
        "from sklearn.neighbors import KNeighborsClassifier\n",
        "from sklearn.naive_bayes import GaussianNB\n",
        "from sklearn.neural_network import MLPClassifier\n",
        "from sklearn.datasets import make_moons\n",
        "from sklearn.model_selection import train_test_split\n",
        "\n",
        "class VotingEnsemble:\n",
        "    def __init__(self, models=None):\n",
        "        \"\"\"\n",
        "        Initialize the ensemble with user-defined or default models.\n",
        "        \"\"\"\n",
        "        self.models = models if models else {\n",
        "            'svc': SVC(probability=True),\n",
        "            'knn': KNeighborsClassifier(n_neighbors=5),\n",
        "            'naive_bayes': GaussianNB(),\n",
        "            'mlp': MLPClassifier(hidden_layer_sizes=(50, 50), max_iter=1000)\n",
        "        }\n",
        "        self.ensemble = None\n",
        "\n",
        "    def train(self, x_train, y_train, selected_models, voting_type='soft'):\n",
        "        \"\"\"\n",
        "        Train the voting ensemble with selected models and user-defined voting type.\n",
        "        \"\"\"\n",
        "        estimators = [(name, self.models[name]) for name in selected_models if name in self.models]\n",
        "        self.ensemble = VotingClassifier(estimators=estimators, voting=voting_type)\n",
        "        self.ensemble.fit(x_train, y_train)\n",
        "\n",
        "    def get_model_accuracies(self, x_train, y_train, x_test, y_test):\n",
        "            \"\"\"\n",
        "            Compute accuracy for each individual model in the ensemble.\n",
        "            \"\"\"\n",
        "            accuracies = {\"Train Accuracy\": {}, \"Test Accuracy\": {}}\n",
        "            for name, model in self.ensemble.estimators:\n",
        "                model.fit(x_train, y_train)\n",
        "                y_train_pred = model.predict(x_train)\n",
        "                y_test_pred = model.predict(x_test)\n",
        "                accuracies[\"Train Accuracy\"][name] = accuracy_score(y_train, y_train_pred)\n",
        "                accuracies[\"Test Accuracy\"][name] = accuracy_score(y_test, y_test_pred)\n",
        "            return accuracies\n",
        "\n",
        "    def get_classification_report(self, x_test, y_test):\n",
        "        \"\"\"\n",
        "        Generate the classification report.\n",
        "        \"\"\"\n",
        "        y_pred = self.ensemble.predict(x_test)\n",
        "        return classification_report(y_test, y_pred)\n",
        "\n",
        "    def plot_confusion_matrix(self, x_test, y_test):\n",
        "        \"\"\"\n",
        "        Plot the confusion matrix.\n",
        "        \"\"\"\n",
        "        y_pred = self.ensemble.predict(x_test)\n",
        "        cm = confusion_matrix(y_test, y_pred)\n",
        "        plt.figure(figsize=(6,5))\n",
        "        sns.heatmap(cm, annot=True, fmt='d', cmap='Blues', xticklabels=np.unique(y_test), yticklabels=np.unique(y_test))\n",
        "        plt.xlabel('Predicted')\n",
        "        plt.ylabel('Actual')\n",
        "        plt.title('Confusion Matrix')\n",
        "        plt.show()"
      ],
      "metadata": {
        "id": "2oYzcdK3xr6F"
      },
      "execution_count": null,
      "outputs": []
    },
    {
      "cell_type": "code",
      "source": [
        "X, y = make_moons(n_samples=1000, noise=0.2, random_state=42)\n",
        "X_train, X_test, y_train, y_test = train_test_split(X, y, test_size=0.2, random_state=42)\n",
        "\n",
        "print(\"Non-Linear Classification Example:\")\n",
        "ensemble = VotingEnsemble()\n",
        "ensemble.train(X_train, y_train, ['svc', 'knn', 'naive_bayes', 'mlp'], voting_type='soft')\n",
        "\n",
        "\n",
        "accuracies = ensemble.get_model_accuracies(X_train, y_train, X_test, y_test)\n",
        "print(\"\\nTrain Accuracies:\", accuracies[\"Train Accuracy\"])\n",
        "print(\"Test Accuracies:\", accuracies[\"Test Accuracy\"])\n",
        "print(\"\\nClassification Report:\\n\", ensemble.get_classification_report(X_test, y_test))\n",
        "ensemble.plot_confusion_matrix(X_test, y_test)\n"
      ],
      "metadata": {
        "colab": {
          "base_uri": "https://localhost:8080/",
          "height": 761
        },
        "id": "3pP1EBLIzLNG",
        "outputId": "14bc3a7a-10a6-426b-99d2-a426b0755073"
      },
      "execution_count": null,
      "outputs": [
        {
          "output_type": "stream",
          "name": "stdout",
          "text": [
            "Non-Linear Classification Example:\n",
            "\n",
            "Train Accuracies: {'svc': 0.96875, 'knn': 0.975, 'naive_bayes': 0.8675, 'mlp': 0.97625}\n",
            "Test Accuracies: {'svc': 0.98, 'knn': 0.975, 'naive_bayes': 0.855, 'mlp': 0.99}\n",
            "\n",
            "Classification Report:\n",
            "               precision    recall  f1-score   support\n",
            "\n",
            "           0       0.98      0.98      0.98       100\n",
            "           1       0.98      0.98      0.98       100\n",
            "\n",
            "    accuracy                           0.98       200\n",
            "   macro avg       0.98      0.98      0.98       200\n",
            "weighted avg       0.98      0.98      0.98       200\n",
            "\n"
          ]
        },
        {
          "output_type": "display_data",
          "data": {
            "text/plain": [
              "<Figure size 600x500 with 2 Axes>"
            ],
            "image/png": "[encoded data removed]"
          },
          "metadata": {}
        }
      ]
    },
    {
      "cell_type": "markdown",
      "source": [
        "## Voting ensamble classification"
      ],
      "metadata": {
        "id": "vjNo2-HX-yf5"
      }
    },
    {
      "cell_type": "code",
      "source": [
        "import numpy as np\n",
        "import matplotlib.pyplot as plt\n",
        "import seaborn as sns\n",
        "from sklearn.ensemble import VotingClassifier\n",
        "from sklearn.metrics import classification_report, confusion_matrix, accuracy_score\n",
        "from sklearn.svm import SVC\n",
        "from sklearn.neighbors import KNeighborsClassifier\n",
        "from sklearn.naive_bayes import GaussianNB\n",
        "from sklearn.neural_network import MLPClassifier\n",
        "from sklearn.datasets import make_moons\n",
        "from sklearn.model_selection import train_test_split\n",
        "\n",
        "X, y = make_moons(n_samples=1000, noise=0.2, random_state=42)\n",
        "X_train, X_test, y_train, y_test = train_test_split(X, y, test_size=0.2, random_state=42)\n",
        "\n",
        "svc1 = SVC(probability=True, kernel='rbf')\n",
        "svc2 = SVC(probability=True, kernel='poly', degree=3)\n",
        "knn = KNeighborsClassifier(n_neighbors=5)\n",
        "naive_bayes = GaussianNB()\n",
        "mlp = MLPClassifier(hidden_layer_sizes=(50, 50), max_iter=1000)\n",
        "\n",
        "voting_clf = VotingClassifier(\n",
        "    estimators=[\n",
        "        ('svc_rbf', svc1),\n",
        "        ('svc_poly', svc2),\n",
        "        ('knn', knn),\n",
        "        ('naive_bayes', naive_bayes),\n",
        "        ('mlp', mlp)\n",
        "    ],\n",
        "    voting='soft'\n",
        ")\n",
        "\n",
        "voting_clf.fit(X_train, y_train)\n",
        "y_pred = voting_clf.predict(X_test)\n",
        "\n",
        "print(\"Test Accuracy:\", accuracy_score(y_test, y_pred))\n",
        "\n",
        "print(\"\\nClassification Report:\\n\", classification_report(y_test, y_pred))\n",
        "\n",
        "cm = confusion_matrix(y_test, y_pred)\n",
        "plt.figure(figsize=(6,5))\n",
        "sns.heatmap(cm, annot=True, fmt='d', cmap='Blues', xticklabels=np.unique(y_test), yticklabels=np.unique(y_test))\n",
        "plt.xlabel('Predicted')\n",
        "plt.ylabel('Actual')\n",
        "plt.title('Confusion Matrix')\n",
        "plt.show()\n"
      ],
      "metadata": {
        "colab": {
          "base_uri": "https://localhost:8080/",
          "height": 706
        },
        "id": "6LcEWsVh1PiB",
        "outputId": "8f609a77-5d9c-4af1-a24f-160745a2ce0b"
      },
      "execution_count": null,
      "outputs": [
        {
          "output_type": "stream",
          "name": "stdout",
          "text": [
            "Test Accuracy: 0.98\n",
            "\n",
            "Classification Report:\n",
            "               precision    recall  f1-score   support\n",
            "\n",
            "           0       0.98      0.98      0.98       100\n",
            "           1       0.98      0.98      0.98       100\n",
            "\n",
            "    accuracy                           0.98       200\n",
            "   macro avg       0.98      0.98      0.98       200\n",
            "weighted avg       0.98      0.98      0.98       200\n",
            "\n"
          ]
        },
        {
          "output_type": "display_data",
          "data": {
            "text/plain": [
              "<Figure size 600x500 with 2 Axes>"
            ],
            "image/png": "[encoded data removed]"
          },
          "metadata": {}
        }
      ]
    },
    {
      "cell_type": "markdown",
      "source": [
        "# GUI starts here\n"
      ],
      "metadata": {
        "id": "ikrS_Py0eNwk"
      }
    },
    {
      "cell_type": "markdown",
      "source": [
        "## load the data set"
      ],
      "metadata": {
        "id": "A-ZgWNy1eQ6p"
      }
    },
    {
      "cell_type": "code",
      "source": [
        "from sklearn.datasets import load_breast_cancer\n",
        "from sklearn.model_selection import train_test_split\n",
        "data = load_breast_cancer()\n",
        "X, y = data.data, data.target\n",
        "X_train, X_test, y_train, y_test = train_test_split(X, y, test_size=0.2, random_state=42)\n"
      ],
      "metadata": {
        "id": "Bsq_5UU9-vBq"
      },
      "execution_count": 1,
      "outputs": []
    },
    {
      "cell_type": "markdown",
      "source": [
        "### App start here"
      ],
      "metadata": {
        "id": "TW46rlAaevyn"
      }
    },
    {
      "cell_type": "code",
      "source": [
        "import numpy as np\n",
        "import matplotlib.pyplot as plt\n",
        "import seaborn as sns\n",
        "import pandas as pd\n",
        "from sklearn.ensemble import VotingClassifier\n",
        "from sklearn.linear_model import LogisticRegression\n",
        "from sklearn.svm import SVC\n",
        "from sklearn.tree import DecisionTreeClassifier\n",
        "from sklearn.ensemble import RandomForestClassifier\n",
        "from sklearn.metrics import classification_report, confusion_matrix\n",
        "from sklearn.preprocessing import StandardScaler\n",
        "from sklearn.decomposition import PCA\n",
        "import ipywidgets as widgets\n",
        "from IPython.display import display\n",
        "\n",
        "\n",
        "def get_models():\n",
        "    return {\n",
        "        'Logistic Regression': LogisticRegression(),\n",
        "        'SVM': SVC(probability=True),\n",
        "        'Decision Tree': DecisionTreeClassifier(),\n",
        "        'Random Forest': RandomForestClassifier()\n",
        "    }\n",
        "\n",
        "\n",
        "models_dict = get_models()\n",
        "model_selection_widgets = {}\n",
        "\n",
        "for model_name in models_dict.keys():\n",
        "    model_selection_widgets[model_name] = widgets.IntSlider(\n",
        "        value=0, min=0, max=5, step=1,\n",
        "        description=f'{model_name}',\n",
        "        style={'description_width': 'initial'}\n",
        "    )\n",
        "\n",
        "\n",
        "voting_type = widgets.Dropdown(\n",
        "    options=['hard', 'soft'],\n",
        "    value='soft',\n",
        "    description='Voting Type'\n",
        ")\n",
        "\n",
        "train_button = widgets.Button(description='Train Ensemble')\n",
        "out = widgets.Output()\n",
        "\n",
        "\n",
        "def train_voting_ensemble(selected_models, voting_type, X_train, y_train):\n",
        "    model_instances = []\n",
        "    for name, count in selected_models.items():\n",
        "        for i in range(count):\n",
        "            model_instances.append((f'{name}_{i+1}', models_dict[name]))\n",
        "\n",
        "    if not model_instances:\n",
        "        return None\n",
        "\n",
        "    ensemble = VotingClassifier(estimators=model_instances, voting=voting_type)\n",
        "    ensemble.fit(X_train, y_train)\n",
        "    return ensemble\n",
        "\n",
        "\n",
        "def plot_decision_boundary(model, X, y, title):\n",
        "    pca = PCA(n_components=2)\n",
        "    X_pca = pca.fit_transform(X)\n",
        "    model.fit(X_pca, y)\n",
        "\n",
        "    x_min, x_max = X_pca[:, 0].min() - 1, X_pca[:, 0].max() + 1\n",
        "    y_min, y_max = X_pca[:, 1].min() - 1, X_pca[:, 1].max() + 1\n",
        "    xx, yy = np.meshgrid(np.linspace(x_min, x_max, 100), np.linspace(y_min, y_max, 100))\n",
        "\n",
        "    Z = model.predict(np.c_[xx.ravel(), yy.ravel()])\n",
        "    Z = Z.reshape(xx.shape)\n",
        "    plt.contourf(xx, yy, Z, alpha=0.3)\n",
        "    sns.scatterplot(x=X_pca[:, 0], y=X_pca[:, 1], hue=y, edgecolor='k')\n",
        "    plt.title(title)\n",
        "    plt.show()\n",
        "\n",
        "def on_train_clicked(b):\n",
        "    selected_models = {name: widget.value for name, widget in model_selection_widgets.items() if widget.value > 0}\n",
        "    if not selected_models:\n",
        "        with out:\n",
        "            out.clear_output()\n",
        "            print(\"Select at least one model!\")\n",
        "        return\n",
        "\n",
        "    ensemble = train_voting_ensemble(selected_models, voting_type.value, X_train, y_train)\n",
        "    if ensemble is None:\n",
        "        return\n",
        "\n",
        "    y_pred = ensemble.predict(X_test)\n",
        "\n",
        "    with out:\n",
        "        out.clear_output()\n",
        "        print(\"Classification Report:\")\n",
        "        print(classification_report(y_test, y_pred))\n",
        "        print(\"Confusion Matrix:\")\n",
        "        sns.heatmap(confusion_matrix(y_test, y_pred), annot=True, fmt='d')\n",
        "        plt.show()\n",
        "        plot_decision_boundary(ensemble, X_train, y_train, \"Decision Boundary\")\n",
        "\n",
        "train_button.on_click(on_train_clicked)\n",
        "\n",
        "\n",
        "display(*model_selection_widgets.values(), voting_type, train_button, out)\n"
      ],
      "metadata": {
        "colab": {
          "base_uri": "https://localhost:8080/",
          "height": 1000,
          "referenced_widgets": [
            "bcc10163a7ab40e8b1f9ca43ed328f47",
            "cea9f28976714604b941d1e951ae51f3",
            "454d96ebca654fe0b85ec2369e1c360c",
            "02e42c86c4114e029f74ac3bae9a4f8a",
            "221ed80a4f3d43ec901a7c8bc720228d",
            "78f5887bddcc4ee0a184aea3048bb2c8",
            "a8b83821fc644fbf80270031006da889",
            "e100d857be884c3cab07807023655ce4",
            "992e8fb3944d460b96e850219fff1182",
            "a37fc7b5468a4093bc007833d0ec1d22",
            "ed3d066f167e4067b87d720cffc45f13",
            "a7b7ad4d16e8453c834d352a66d12650",
            "5f04ff44f6bd4559b884f9fa530864d3",
            "2b668635a4174bfea0df2a60b619a96e",
            "d527a1df13df43098fda87527ddced0e",
            "4390390c45034f04b16ed32e64001782",
            "aa1ca7f743484f499613c57667c6ca63",
            "a826c9c06d1b4811b2d97a8febce37b6",
            "7a30e58052a6489780b73156b8d4c4d7",
            "bf4f24c13f2844d19134a031befa65be"
          ]
        },
        "id": "7Gj46U-hedU_",
        "outputId": "6e8de963-f4b0-499d-d5b2-b5f0041a6581"
      },
      "execution_count": 2,
      "outputs": [
        {
          "output_type": "display_data",
          "data": {
            "text/plain": [
              "IntSlider(value=0, description='Logistic Regression', max=5, style=SliderStyle(description_width='initial'))"
            ],
            "application/vnd.jupyter.widget-view+json": {
              "version_major": 2,
              "version_minor": 0,
              "model_id": "bcc10163a7ab40e8b1f9ca43ed328f47"
            }
          },
          "metadata": {}
        },
        {
          "output_type": "display_data",
          "data": {
            "text/plain": [
              "IntSlider(value=0, description='SVM', max=5, style=SliderStyle(description_width='initial'))"
            ],
            "application/vnd.jupyter.widget-view+json": {
              "version_major": 2,
              "version_minor": 0,
              "model_id": "02e42c86c4114e029f74ac3bae9a4f8a"
            }
          },
          "metadata": {}
        },
        {
          "output_type": "display_data",
          "data": {
            "text/plain": [
              "IntSlider(value=0, description='Decision Tree', max=5, style=SliderStyle(description_width='initial'))"
            ],
            "application/vnd.jupyter.widget-view+json": {
              "version_major": 2,
              "version_minor": 0,
              "model_id": "a8b83821fc644fbf80270031006da889"
            }
          },
          "metadata": {}
        },
        {
          "output_type": "display_data",
          "data": {
            "text/plain": [
              "IntSlider(value=0, description='Random Forest', max=5, style=SliderStyle(description_width='initial'))"
            ],
            "application/vnd.jupyter.widget-view+json": {
              "version_major": 2,
              "version_minor": 0,
              "model_id": "a37fc7b5468a4093bc007833d0ec1d22"
            }
          },
          "metadata": {}
        },
        {
          "output_type": "display_data",
          "data": {
            "text/plain": [
              "Dropdown(description='Voting Type', index=1, options=('hard', 'soft'), value='soft')"
            ],
            "application/vnd.jupyter.widget-view+json": {
              "version_major": 2,
              "version_minor": 0,
              "model_id": "5f04ff44f6bd4559b884f9fa530864d3"
            }
          },
          "metadata": {}
        },
        {
          "output_type": "display_data",
          "data": {
            "text/plain": [
              "Button(description='Train Ensemble', style=ButtonStyle())"
            ],
            "application/vnd.jupyter.widget-view+json": {
              "version_major": 2,
              "version_minor": 0,
              "model_id": "4390390c45034f04b16ed32e64001782"
            }
          },
          "metadata": {}
        },
        {
          "output_type": "display_data",
          "data": {
            "text/plain": [
              "Output()"
            ],
            "application/vnd.jupyter.widget-view+json": {
              "version_major": 2,
              "version_minor": 0,
              "model_id": "7a30e58052a6489780b73156b8d4c4d7"
            }
          },
          "metadata": {}
        },
        {
          "output_type": "stream",
          "name": "stderr",
          "text": [
            "/usr/local/lib/python3.11/dist-packages/sklearn/linear_model/_logistic.py:465: ConvergenceWarning: lbfgs failed to converge (status=1):\n",
            "STOP: TOTAL NO. of ITERATIONS REACHED LIMIT.\n",
            "\n",
            "Increase the number of iterations (max_iter) or scale the data as shown in:\n",
            "    https://scikit-learn.org/stable/modules/preprocessing.html\n",
            "Please also refer to the documentation for alternative solver options:\n",
            "    https://scikit-learn.org/stable/modules/linear_model.html#logistic-regression\n",
            "  n_iter_i = _check_optimize_result(\n"
          ]
        }
      ]
    }
  ]
}